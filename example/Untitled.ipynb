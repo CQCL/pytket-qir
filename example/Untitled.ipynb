{
 "cells": [
  {
   "cell_type": "code",
   "execution_count": 1,
   "id": "5ec5b64a",
   "metadata": {},
   "outputs": [],
   "source": [
    "\n",
    "from collections import OrderedDict\n",
    "from functools import partial\n",
    "import os\n",
    "from pathlib import Path\n",
    "from string import Template\n",
    "from typing import cast, Callable, Generator, List, Tuple\n",
    "\n",
    "from pytest import fixture  # type: ignore\n",
    "\n",
    "from pyqir.generator import bitcode_to_ir, types  # type: ignore\n",
    "from pyqir.generator import Builder, IntPredicate, Value  # type: ignore\n",
    "from pytket import Circuit  # type: ignore\n",
    "from pytket.circuit import (  # type: ignore\n",
    "    CircBox,\n",
    "    OpType,\n",
    ")\n",
    "from pytket.circuit.logic_exp import (  # type: ignore\n",
    "    BitNot,\n",
    "    if_bit,\n",
    "    if_not_bit,\n",
    "    reg_eq,\n",
    "    reg_neq,\n",
    "    reg_geq,\n",
    "    reg_gt,\n",
    "    reg_lt,\n",
    "    reg_leq,\n",
    ")\n",
    "\n",
    "from pytket_qir.converter import Block, circuit_to_qir, write_qir_file  # type: ignore\n",
    "\n",
    "from pytket_qir.gatesets.base import FuncName, FuncNat, FuncSpec  # type: ignore\n",
    "\n",
    "from pytket_qir.gatesets.base import CustomGateSet, CustomQirGate\n",
    "from pytket_qir.gatesets.pyqir import _TK_TO_PYQIR\n",
    "from pytket_qir.generator import QirGenerator\n",
    "from pytket_qir.module import Module\n",
    "\n"
   ]
  },
  {
   "cell_type": "code",
   "execution_count": 2,
   "id": "a7af04a8",
   "metadata": {},
   "outputs": [],
   "source": [
    "\n",
    "\n",
    "from pytket.circuit import Circuit\n",
    "\n"
   ]
  },
  {
   "cell_type": "code",
   "execution_count": 3,
   "id": "9f10c14e",
   "metadata": {},
   "outputs": [
    {
     "data": {
      "text/plain": [
       "[CRz(0.5) q[0], q[1]; T q[2]; CSWAP q[2], q[0], q[1]; ]"
      ]
     },
     "execution_count": 3,
     "metadata": {},
     "output_type": "execute_result"
    }
   ],
   "source": [
    "circ = Circuit(3)\n",
    "circ.CRz(0.5, 0, 1)\n",
    "circ.T(2)\n",
    "circ.CSWAP(2, 0, 1)"
   ]
  },
  {
   "cell_type": "code",
   "execution_count": 4,
   "id": "01274567",
   "metadata": {},
   "outputs": [],
   "source": [
    "    circ = Circuit(2)\n",
    "    a = circ.add_c_register(\"a\", 3)\n",
    "    b = circ.add_c_register(\"b\", 3)\n",
    "    c = circ.add_c_register(\"c\", 3)\n",
    "    circ.add_classicalexpbox_register(a & b, c)\n",
    "    circ.add_classicalexpbox_register(a | b, c)\n",
    "    circ.add_classicalexpbox_register(a ^ b, c)\n",
    "    circ.add_classicalexpbox_register(a + b, c)\n",
    "    circ.add_classicalexpbox_register(a - b, c)\n",
    "    circ.add_classicalexpbox_register(a * b, c)\n",
    "    # circ.add_classicalexpbox_register(a // b, c) No division yet.\n",
    "    circ.add_classicalexpbox_register(a << b, c)\n",
    "    circ.add_classicalexpbox_register(a >> b, c)\n",
    "    circ.add_classicalexpbox_register(reg_eq(a, b), c)\n",
    "    circ.add_classicalexpbox_register(reg_neq(a, b), c)\n",
    "    circ.add_classicalexpbox_register(reg_gt(a, b), c)\n",
    "    circ.add_classicalexpbox_register(reg_geq(a, b), c)\n",
    "    circ.add_classicalexpbox_register(reg_lt(a, b), c)\n",
    "    circ.add_classicalexpbox_register(reg_leq(a, b), c)\n",
    "\n",
    "    module = Module(\n",
    "        name=\"Generated from input pytket circuit\", num_qubits=2, num_results=9\n",
    "    )\n",
    "    wasm_int_type = types.Int(32)\n",
    "    qir_int_type = types.Int(64)\n",
    "    qir_generator = QirGenerator(\n",
    "        circuit=circ,\n",
    "        module=module,\n",
    "        wasm_int_type=wasm_int_type,\n",
    "        qir_int_type=qir_int_type,\n",
    "    )\n",
    "    populated_module = qir_generator.circuit_to_module(\n",
    "        qir_generator.circuit, qir_generator.module\n",
    "    )\n",
    "\n",
    "    with open(\"ClassicalCircuit-1.ll\", \"w\") as output_file:\n",
    "        output_file.write(populated_module.module.ir())"
   ]
  },
  {
   "cell_type": "code",
   "execution_count": 12,
   "id": "23ed263b",
   "metadata": {},
   "outputs": [],
   "source": [
    "    circ = Circuit(3)\n",
    "    circ.H(0)\n",
    "    circ.H(2)\n",
    "    circ.H(1)\n",
    "    # circ.add_barrier([0, 1]) not working\n",
    "    circ.X(0)\n",
    "    circ.Y(1)\n",
    "    circ.Z(1)\n",
    "    \n",
    "    \n",
    "    \n",
    "\n",
    "    module = Module(\n",
    "        name=\"Generated from input pytket circuit\", num_qubits=3, num_results=9\n",
    "    )\n",
    "    wasm_int_type = types.Int(32)\n",
    "    qir_int_type = types.Int(64)\n",
    "    qir_generator = QirGenerator(\n",
    "        circuit=circ,\n",
    "        module=module,\n",
    "        wasm_int_type=wasm_int_type,\n",
    "        qir_int_type=qir_int_type,\n",
    "    )\n",
    "    populated_module = qir_generator.circuit_to_module(\n",
    "        qir_generator.circuit, qir_generator.module\n",
    "    )\n",
    "\n",
    "    with open(\"ClassicalCircuit-2.ll\", \"w\") as output_file:\n",
    "        output_file.write(populated_module.module.ir())"
   ]
  },
  {
   "cell_type": "code",
   "execution_count": null,
   "id": "1b5319b5",
   "metadata": {},
   "outputs": [],
   "source": []
  },
  {
   "cell_type": "code",
   "execution_count": null,
   "id": "4c5a94ed",
   "metadata": {},
   "outputs": [],
   "source": []
  },
  {
   "cell_type": "code",
   "execution_count": null,
   "id": "e16152a4",
   "metadata": {},
   "outputs": [],
   "source": []
  },
  {
   "cell_type": "code",
   "execution_count": null,
   "id": "875caa0b",
   "metadata": {},
   "outputs": [],
   "source": []
  }
 ],
 "metadata": {
  "kernelspec": {
   "display_name": "Python 3 (ipykernel)",
   "language": "python",
   "name": "python3"
  },
  "language_info": {
   "codemirror_mode": {
    "name": "ipython",
    "version": 3
   },
   "file_extension": ".py",
   "mimetype": "text/x-python",
   "name": "python",
   "nbconvert_exporter": "python",
   "pygments_lexer": "ipython3",
   "version": "3.9.16"
  }
 },
 "nbformat": 4,
 "nbformat_minor": 5
}
