{
 "cells": [
  {
   "cell_type": "code",
   "execution_count": 1,
   "id": "fd3ec7c7",
   "metadata": {},
   "outputs": [],
   "source": [
    "\n",
    "from collections import OrderedDict\n",
    "from functools import partial\n",
    "import os\n",
    "from pathlib import Path\n",
    "from string import Template\n",
    "from typing import cast, Callable, Generator, List, Tuple\n",
    "\n",
    "from pytest import fixture  # type: ignore\n",
    "\n",
    "from pyqir.generator import bitcode_to_ir, types  # type: ignore\n",
    "from pyqir.generator import Builder, IntPredicate, Value  # type: ignore\n",
    "from pytket import Circuit  # type: ignore\n",
    "from pytket.circuit import (  # type: ignore\n",
    "    CircBox,\n",
    "    OpType,\n",
    ")\n",
    "from pytket.circuit.logic_exp import (  # type: ignore\n",
    "    BitNot,\n",
    "    if_bit,\n",
    "    if_not_bit,\n",
    "    reg_eq,\n",
    "    reg_neq,\n",
    "    reg_geq,\n",
    "    reg_gt,\n",
    "    reg_lt,\n",
    "    reg_leq,\n",
    ")\n",
    "\n",
    "from pytket_qir.converter import Block, circuit_to_qir, write_qir_file  # type: ignore\n",
    "\n",
    "from pytket_qir.gatesets.base import FuncName, FuncNat, FuncSpec  # type: ignore\n",
    "\n",
    "from pytket_qir.gatesets.base import CustomGateSet, CustomQirGate\n",
    "from pytket_qir.gatesets.pyqir import _TK_TO_PYQIR\n",
    "from pytket_qir.generator import QirGenerator\n",
    "from pytket_qir.module import Module\n",
    "\n"
   ]
  },
  {
   "cell_type": "code",
   "execution_count": 2,
   "id": "d8d84bef",
   "metadata": {},
   "outputs": [],
   "source": [
    "\n",
    "\n",
    "from pytket.circuit import Circuit\n",
    "\n"
   ]
  },
  {
   "cell_type": "code",
   "execution_count": 3,
   "id": "3f689e8b",
   "metadata": {},
   "outputs": [
    {
     "data": {
      "text/plain": [
       "[CRz(0.5) q[0], q[1]; T q[2]; CSWAP q[2], q[0], q[1]; ]"
      ]
     },
     "execution_count": 3,
     "metadata": {},
     "output_type": "execute_result"
    }
   ],
   "source": [
    "circ = Circuit(3)\n",
    "circ.CRz(0.5, 0, 1)\n",
    "circ.T(2)\n",
    "circ.CSWAP(2, 0, 1)"
   ]
  },
  {
   "cell_type": "code",
   "execution_count": 4,
   "id": "fbe57efa",
   "metadata": {},
   "outputs": [],
   "source": [
    "    circ = Circuit(2)\n",
    "    a = circ.add_c_register(\"a\", 3)\n",
    "    b = circ.add_c_register(\"b\", 3)\n",
    "    c = circ.add_c_register(\"c\", 3)\n",
    "    circ.add_classicalexpbox_register(a & b, c)\n",
    "    circ.add_classicalexpbox_register(a | b, c)\n",
    "    circ.add_classicalexpbox_register(a ^ b, c)\n",
    "    circ.add_classicalexpbox_register(a + b, c)\n",
    "    circ.add_classicalexpbox_register(a - b, c)\n",
    "    circ.add_classicalexpbox_register(a * b, c)\n",
    "    # circ.add_classicalexpbox_register(a // b, c) No division yet.\n",
    "    circ.add_classicalexpbox_register(a << b, c)\n",
    "    circ.add_classicalexpbox_register(a >> b, c)\n",
    "    circ.add_classicalexpbox_register(reg_eq(a, b), c)\n",
    "    circ.add_classicalexpbox_register(reg_neq(a, b), c)\n",
    "    circ.add_classicalexpbox_register(reg_gt(a, b), c)\n",
    "    circ.add_classicalexpbox_register(reg_geq(a, b), c)\n",
    "    circ.add_classicalexpbox_register(reg_lt(a, b), c)\n",
    "    circ.add_classicalexpbox_register(reg_leq(a, b), c)\n",
    "\n",
    "    module = Module(\n",
    "        name=\"Generated from input pytket circuit\", num_qubits=2, num_results=9\n",
    "    )\n",
    "    wasm_int_type = types.Int(32)\n",
    "    qir_int_type = types.Int(32)\n",
    "    qir_generator = QirGenerator(\n",
    "        circuit=circ,\n",
    "        module=module,\n",
    "        wasm_int_type=wasm_int_type,\n",
    "        qir_int_type=qir_int_type,\n",
    "    )\n",
    "    populated_module = qir_generator.circuit_to_module(\n",
    "        qir_generator.circuit, qir_generator.module\n",
    "    )\n",
    "\n",
    "    with open(\"ClassicalCircuit-1.ll\", \"w\") as output_file:\n",
    "        output_file.write(populated_module.module.ir())"
   ]
  },
  {
   "cell_type": "code",
   "execution_count": 25,
   "id": "dfdb4095",
   "metadata": {
    "scrolled": false
   },
   "outputs": [
    {
     "name": "stdout",
     "output_type": "stream",
     "text": [
      "found something conditional\n",
      "OpType.H\n",
      "[]\n",
      "True\n",
      "H\n",
      "['__class__', '__delattr__', '__dir__', '__doc__', '__eq__', '__format__', '__ge__', '__getattribute__', '__gt__', '__hash__', '__init__', '__init_subclass__', '__le__', '__lt__', '__module__', '__ne__', '__new__', '__reduce__', '__reduce_ex__', '__repr__', '__setattr__', '__sizeof__', '__str__', '__subclasshook__', 'create', 'dagger', 'free_symbols', 'get_name', 'get_unitary', 'is_clifford_type', 'is_gate', 'n_qubits', 'params', 'transpose', 'type']\n",
      "<pytket_qir.module.Module object at 0x7f08dcbe4b80>\n",
      "['__class__', '__delattr__', '__dict__', '__dir__', '__doc__', '__eq__', '__format__', '__ge__', '__getattribute__', '__gt__', '__hash__', '__init__', '__init_subclass__', '__le__', '__lt__', '__module__', '__ne__', '__new__', '__reduce__', '__reduce_ex__', '__repr__', '__setattr__', '__sizeof__', '__str__', '__subclasshook__', '__weakref__', '_gateset', 'builder', 'gateset', 'module', 'qis', 'wasm_handler']\n",
      "\n",
      "\n",
      "\n",
      "['__call__', '__class__', '__delattr__', '__dir__', '__doc__', '__eq__', '__format__', '__ge__', '__getattribute__', '__gt__', '__hash__', '__init__', '__init_subclass__', '__le__', '__lt__', '__module__', '__name__', '__ne__', '__new__', '__qualname__', '__reduce__', '__reduce_ex__', '__repr__', '__self__', '__setattr__', '__sizeof__', '__str__', '__subclasshook__', '__text_signature__']\n",
      "\n",
      "\n",
      "\n",
      "<built-in method ir of builtins.SimpleModule object at 0x7f08dc8a7b40>\n"
     ]
    },
    {
     "name": "stderr",
     "output_type": "stream",
     "text": [
      "thread '<unnamed>' panicked at 'Found PointerValue(PointerValue { ptr_value: Value { name: \"\", address: 0x2ab4b90, is_const: true, is_null: true, is_undef: false, llvm_value: \"%Result* null\", llvm_type: \"%Result*\" } }) but expected the IntValue variant', /usr/local/cargo/git/checkouts/inkwell-946411d814d2c9f8/6ab2b19/src/values/enums.rs:399:13\n"
     ]
    },
    {
     "ename": "PanicException",
     "evalue": "Found PointerValue(PointerValue { ptr_value: Value { name: \"\", address: 0x2ab4b90, is_const: true, is_null: true, is_undef: false, llvm_value: \"%Result* null\", llvm_type: \"%Result*\" } }) but expected the IntValue variant",
     "output_type": "error",
     "traceback": [
      "\u001b[0;31m---------------------------------------------------------------------------\u001b[0m",
      "\u001b[0;31mPanicException\u001b[0m                            Traceback (most recent call last)",
      "Cell \u001b[0;32mIn[25], line 45\u001b[0m\n\u001b[1;32m     43\u001b[0m \u001b[38;5;28mprint\u001b[39m(\u001b[38;5;124m\"\u001b[39m\u001b[38;5;130;01m\\n\u001b[39;00m\u001b[38;5;130;01m\\n\u001b[39;00m\u001b[38;5;124m\"\u001b[39m)\n\u001b[1;32m     44\u001b[0m \u001b[38;5;28mprint\u001b[39m(populated_module\u001b[38;5;241m.\u001b[39mmodule\u001b[38;5;241m.\u001b[39mir\u001b[38;5;241m.\u001b[39m\u001b[38;5;21m__str__\u001b[39m())\n\u001b[0;32m---> 45\u001b[0m \u001b[38;5;28mprint\u001b[39m(\u001b[43mpopulated_module\u001b[49m\u001b[38;5;241;43m.\u001b[39;49m\u001b[43mmodule\u001b[49m\u001b[38;5;241;43m.\u001b[39;49m\u001b[43mir\u001b[49m\u001b[43m(\u001b[49m\u001b[43m)\u001b[49m)\n",
      "\u001b[0;31mPanicException\u001b[0m: Found PointerValue(PointerValue { ptr_value: Value { name: \"\", address: 0x2ab4b90, is_const: true, is_null: true, is_undef: false, llvm_value: \"%Result* null\", llvm_type: \"%Result*\" } }) but expected the IntValue variant"
     ]
    }
   ],
   "source": [
    "    circ = Circuit(3)\n",
    "    a = circ.add_c_register(\"a\", 3)\n",
    "    qb = circ.add_q_register(\"qb\", 3)\n",
    "    circ.H(0)\n",
    "    circ.H(2)\n",
    "    circ.H(1)\n",
    "    # circ.add_barrier([0, 1]) not working\n",
    "    circ.X(0)\n",
    "    circ.Y(1)\n",
    "    circ.Z(1)\n",
    "    circ.H(0, condition=a[0])\n",
    "    circ.H(0)\n",
    "    # circ.Measure(qb[0], a[0])\n",
    "    cbcirc = Circuit(3)\n",
    "    cbcirc.H(0) # , condition=a[0]\n",
    "    \n",
    "    circ_box = CircBox(cbcirc)\n",
    "    # circ.add_circbox(circ_box, [0, 1, 2], condition=a[0])\n",
    "    \n",
    "\n",
    "    module = Module(\n",
    "        name=\"Generated from input pytket circuit\", num_qubits=3, num_results=9\n",
    "    )\n",
    "    wasm_int_type = types.Int(32)\n",
    "    qir_int_type = types.Int(64)\n",
    "    qir_generator = QirGenerator(\n",
    "        circuit=circ,\n",
    "        module=module,\n",
    "        wasm_int_type=wasm_int_type,\n",
    "        qir_int_type=qir_int_type,\n",
    "    )\n",
    "    populated_module = qir_generator.circuit_to_module(\n",
    "        qir_generator.circuit, qir_generator.module\n",
    "    )\n",
    "\n",
    "    #with open(\"ClassicalCircuit-cond.ll\", \"w\") as output_file:\n",
    "    #    output_file.write(populated_module.module.ir())\n",
    "    \n",
    "    print(populated_module)\n",
    "    print(dir(populated_module))\n",
    "    print(\"\\n\\n\")\n",
    "    print(dir(populated_module.module.ir))\n",
    "    print(\"\\n\\n\")\n",
    "    print(populated_module.module.ir.__str__())\n",
    "    print(populated_module.module.ir())"
   ]
  },
  {
   "cell_type": "code",
   "execution_count": null,
   "id": "2ff70968",
   "metadata": {},
   "outputs": [],
   "source": []
  },
  {
   "cell_type": "code",
   "execution_count": null,
   "id": "6e826a2e",
   "metadata": {},
   "outputs": [],
   "source": []
  },
  {
   "cell_type": "code",
   "execution_count": null,
   "id": "ebe42908",
   "metadata": {},
   "outputs": [],
   "source": []
  },
  {
   "cell_type": "code",
   "execution_count": null,
   "id": "c68a9614",
   "metadata": {},
   "outputs": [],
   "source": []
  }
 ],
 "metadata": {
  "kernelspec": {
   "display_name": "Python 3 (ipykernel)",
   "language": "python",
   "name": "python3"
  },
  "language_info": {
   "codemirror_mode": {
    "name": "ipython",
    "version": 3
   },
   "file_extension": ".py",
   "mimetype": "text/x-python",
   "name": "python",
   "nbconvert_exporter": "python",
   "pygments_lexer": "ipython3",
   "version": "3.10.10"
  }
 },
 "nbformat": 4,
 "nbformat_minor": 5
}
